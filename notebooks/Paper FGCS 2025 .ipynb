{
 "cells": [
  {
   "cell_type": "code",
   "execution_count": null,
   "id": "4fba79fb-8668-4823-bcdd-eae33b751bc2",
   "metadata": {},
   "outputs": [],
   "source": [
    "import matplotlib.pyplot as plt\n",
    "\n",
    "def read_log(filename, verbose=False):\n",
    "    if verbose:\n",
    "        print('Filename:', filename)\n",
    "    with open(filename, 'r') as f:\n",
    "        lines = f.readlines()\n",
    "    iterations = []\n",
    "    penalties = []\n",
    "    objectives = []\n",
    "    fs = []\n",
    "    log_fs = []\n",
    "    \n",
    "    for i in range(len(lines)):\n",
    "        if 'Iteration' in lines[i]:\n",
    "            iterations.append(int(lines[i].split()[2]))\n",
    "            penalties.append(float(lines[i+1].split()[2]))\n",
    "            objectives.append(float(lines[i+2].split()[2]))\n",
    "            fs.append(float(lines[i+3].split()[2]))\n",
    "            log_fs.append(float(lines[i+4].split()[2]))\n",
    "            if verbose:\n",
    "                print('Iteration {:6d}: Penalty: {:.6f}, Objective: {:.6f}, F = {:.8f}, log(F) = {:.8f}'.format(iterations[-1], penalties[-1], objectives[-1], fs[-1], log_fs[-1]))\n",
    "\n",
    "    return iterations, penalties, objectives, fs, log_fs\n",
    "\n",
    "def plot_log(x, y1, y2, title, x_label, y1_label, y2_label, y1_color='blue', y2_color='red'):\n",
    "\n",
    "    \n",
    "    fig, ax1 = plt.subplots(figsize=(10, 6))\n",
    "    ax1.set_xlabel(x_label)\n",
    "    ax1.plot(x, y1, color=y1_color, linewidth=2)\n",
    "    ax1.set_ylabel(y1_label, color=y1_color)\n",
    "    ax1.tick_params(axis='y', labelcolor=y1_color)\n",
    "    ax1.grid(alpha=0.2, axis='y', color=y1_color)\n",
    "    \n",
    "    ax2 = ax1.twinx()\n",
    "    ax2.plot(x, y2, color=y2_color, linewidth=2)\n",
    "    ax2.set_ylabel(y2_label, color=y2_color)\n",
    "    ax2.tick_params(axis='y', labelcolor=y2_color)\n",
    "    ax2.grid(alpha=0.2, axis='y', color=y2_color)\n",
    "\n",
    "    plt.title(filename)\n",
    "    plt.show()"
   ]
  },
  {
   "cell_type": "code",
   "execution_count": 18,
   "id": "9b17079c-ef2d-4cb7-bce8-0c73f80bbf69",
   "metadata": {},
   "outputs": [
    {
     "ename": "ValueError",
     "evalue": "could not convert string to float: 'Min'",
     "output_type": "error",
     "traceback": [
      "\u001b[0;31m---------------------------------------------------------------------------\u001b[0m",
      "\u001b[0;31mValueError\u001b[0m                                Traceback (most recent call last)",
      "Cell \u001b[0;32mIn[18], line 3\u001b[0m\n\u001b[1;32m      1\u001b[0m \u001b[38;5;66;03m# filename = '../gradient/multicore_nio/3.log'\u001b[39;00m\n\u001b[1;32m      2\u001b[0m filename \u001b[38;5;241m=\u001b[39m \u001b[38;5;124m'\u001b[39m\u001b[38;5;124m../NIO_POO/multicore/3.log\u001b[39m\u001b[38;5;124m'\u001b[39m\n\u001b[0;32m----> 3\u001b[0m iterations, penalties, objectives, fs, log_fs \u001b[38;5;241m=\u001b[39m \u001b[43mread_log\u001b[49m\u001b[43m(\u001b[49m\u001b[43mfilename\u001b[49m\u001b[43m)\u001b[49m\n\u001b[1;32m      5\u001b[0m start \u001b[38;5;241m=\u001b[39m \u001b[38;5;241m0\u001b[39m\n\u001b[1;32m      6\u001b[0m end \u001b[38;5;241m=\u001b[39m \u001b[38;5;241m80\u001b[39m\n",
      "Cell \u001b[0;32mIn[9], line 25\u001b[0m, in \u001b[0;36mread_log\u001b[0;34m(filename, verbose)\u001b[0m\n\u001b[1;32m     23\u001b[0m objectives\u001b[38;5;241m.\u001b[39mappend(\u001b[38;5;28mfloat\u001b[39m(lines[i\u001b[38;5;241m+\u001b[39m\u001b[38;5;241m2\u001b[39m]\u001b[38;5;241m.\u001b[39msplit()[\u001b[38;5;241m2\u001b[39m]))\n\u001b[1;32m     24\u001b[0m fs\u001b[38;5;241m.\u001b[39mappend(\u001b[38;5;28mfloat\u001b[39m(lines[i\u001b[38;5;241m+\u001b[39m\u001b[38;5;241m3\u001b[39m]\u001b[38;5;241m.\u001b[39msplit()[\u001b[38;5;241m2\u001b[39m]))\n\u001b[0;32m---> 25\u001b[0m log_fs\u001b[38;5;241m.\u001b[39mappend(\u001b[38;5;28;43mfloat\u001b[39;49m\u001b[43m(\u001b[49m\u001b[43mlines\u001b[49m\u001b[43m[\u001b[49m\u001b[43mi\u001b[49m\u001b[38;5;241;43m+\u001b[39;49m\u001b[38;5;241;43m4\u001b[39;49m\u001b[43m]\u001b[49m\u001b[38;5;241;43m.\u001b[39;49m\u001b[43msplit\u001b[49m\u001b[43m(\u001b[49m\u001b[43m)\u001b[49m\u001b[43m[\u001b[49m\u001b[38;5;241;43m2\u001b[39;49m\u001b[43m]\u001b[49m\u001b[43m)\u001b[49m)\n\u001b[1;32m     26\u001b[0m \u001b[38;5;28;01mif\u001b[39;00m verbose:\n\u001b[1;32m     27\u001b[0m     \u001b[38;5;28mprint\u001b[39m(\u001b[38;5;124m'\u001b[39m\u001b[38;5;124mIteration \u001b[39m\u001b[38;5;132;01m{:6d}\u001b[39;00m\u001b[38;5;124m: Penalty: \u001b[39m\u001b[38;5;132;01m{:.6f}\u001b[39;00m\u001b[38;5;124m, Objective: \u001b[39m\u001b[38;5;132;01m{:.6f}\u001b[39;00m\u001b[38;5;124m, F = \u001b[39m\u001b[38;5;132;01m{:.8f}\u001b[39;00m\u001b[38;5;124m, log(F) = \u001b[39m\u001b[38;5;132;01m{:.8f}\u001b[39;00m\u001b[38;5;124m'\u001b[39m\u001b[38;5;241m.\u001b[39mformat(iterations[\u001b[38;5;241m-\u001b[39m\u001b[38;5;241m1\u001b[39m], penalties[\u001b[38;5;241m-\u001b[39m\u001b[38;5;241m1\u001b[39m], objectives[\u001b[38;5;241m-\u001b[39m\u001b[38;5;241m1\u001b[39m], fs[\u001b[38;5;241m-\u001b[39m\u001b[38;5;241m1\u001b[39m], log_fs[\u001b[38;5;241m-\u001b[39m\u001b[38;5;241m1\u001b[39m]))\n",
      "\u001b[0;31mValueError\u001b[0m: could not convert string to float: 'Min'"
     ]
    }
   ],
   "source": [
    "# filename = '../gradient/multicore_nio/3.log'\n",
    "filename = '../NIO_POO/multicore/3.log'\n",
    "iterations, penalties, objectives, fs, log_fs = read_log(filename)\n",
    "\n",
    "start = 0\n",
    "end = 80\n",
    "iterations = iterations[start:end]\n",
    "penalties = penalties[start:end]\n",
    "objectives = objectives[start:end]\n",
    "fs = fs[start:end]\n",
    "log_fs = log_fs[start:end]\n",
    "\n",
    "#plot_log(iterations, objectives, penalties, filename, \"Iteration\", \"Objective\", \"Penalty\", 'blue', 'red')\n",
    "#plot_log(iterations, fs, log_fs, filename, \"Iteration\", \"F\", \"log(F)\", 'green', 'orange')\n",
    "plot_log(iterations, fs, objectives, filename, \"Iteration\", \"F\", \"Objetive\", 'green', 'blue')\n",
    "plot_log(iterations, fs, penalties, filename, \"Iteration\", \"F\", \"Penalty\", 'green', 'red')"
   ]
  },
  {
   "cell_type": "code",
   "execution_count": null,
   "id": "405783d9-e807-45ae-a0d8-05e5cfd766b4",
   "metadata": {},
   "outputs": [],
   "source": []
  }
 ],
 "metadata": {
  "kernelspec": {
   "display_name": "myenv",
   "language": "python",
   "name": "python3"
  },
  "language_info": {
   "codemirror_mode": {
    "name": "ipython",
    "version": 3
   },
   "file_extension": ".py",
   "mimetype": "text/x-python",
   "name": "python",
   "nbconvert_exporter": "python",
   "pygments_lexer": "ipython3",
   "version": "3.12.3"
  }
 },
 "nbformat": 4,
 "nbformat_minor": 5
}
